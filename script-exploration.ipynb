{
 "cells": [
  {
   "cell_type": "code",
   "execution_count": 2,
   "id": "0c1a4da9",
   "metadata": {},
   "outputs": [],
   "source": [
    "# first script for swapping pinyin and hanzi"
   ]
  },
  {
   "cell_type": "code",
   "execution_count": 3,
   "id": "59ea9580",
   "metadata": {},
   "outputs": [],
   "source": [
    "# from https://stackoverflow.com/questions/35091557/replace-nth-occurrence-of-substring-in-string\n",
    "def nth_repl(s, sub, repl, n):\n",
    "    find = s.find(sub)\n",
    "    # If find is not -1 we have found at least one match for the substring\n",
    "    i = find != -1\n",
    "    # loop util we find the nth or we find no match\n",
    "    while find != -1 and i != n:\n",
    "        # find + 1 means we start searching from after the last match\n",
    "        find = s.find(sub, find + 1)\n",
    "        i += 1\n",
    "    # If i is equal to n we found nth match so replace\n",
    "    if i == n:\n",
    "        return s[:find] + repl + s[find+len(sub):]\n",
    "    return s"
   ]
  },
  {
   "cell_type": "code",
   "execution_count": 4,
   "id": "fc42adf4",
   "metadata": {},
   "outputs": [],
   "source": []
  },
  {
   "cell_type": "code",
   "execution_count": 5,
   "id": "a3ecd25b",
   "metadata": {},
   "outputs": [],
   "source": []
  },
  {
   "cell_type": "code",
   "execution_count": 6,
   "id": "36fcbf2c",
   "metadata": {},
   "outputs": [],
   "source": [
    "import codecs\n",
    "\n",
    "source_file = 'data/hanzi-to-pinyin.txt'\n",
    "dest_file = 'data/pinyin-to-hanzi.txt'\n",
    "\n",
    "hanzi_to_pinyin = open(source_file, encoding=\"utf8\")\n",
    "hanzi_to_pinyin_lines = hanzi_to_pinyin.readlines()\n",
    "\n",
    "pinyin_to_hanzi = codecs.open(dest_file, \"w\", \"utf-8-sig\")\n",
    "\n",
    "for line in hanzi_to_pinyin_lines:\n",
    "    if '#separator' in line or '#html' in line:\n",
    "        continue\n",
    "    array = line.split()\n",
    "    \n",
    "    hanzi = array[0]\n",
    "    pinyin = array[1] \n",
    "    line = nth_repl(line, hanzi, pinyin, 1)\n",
    "    line = nth_repl(line, pinyin, hanzi, 2)\n",
    "    pinyin_to_hanzi.write(line)\n",
    "\n",
    "hanzi_to_pinyin.close()\n",
    "pinyin_to_hanzi.close()"
   ]
  },
  {
   "cell_type": "code",
   "execution_count": 7,
   "id": "00f772e7",
   "metadata": {},
   "outputs": [],
   "source": []
  },
  {
   "cell_type": "code",
   "execution_count": 8,
   "id": "b438a259",
   "metadata": {},
   "outputs": [],
   "source": [
    "# second script, find unqiue chinese characters\n",
    "# shamelessly stolen form https://medium.com/the-artificial-impostor/detecting-chinese-characters-in-unicode-strings-4ac839ba313a\n",
    "import re\n",
    "\n",
    "def cjk_detect(char, char_list):\n",
    "    # korean\n",
    "    if re.search(\"[\\uac00-\\ud7a3]\", char) and char not in char_list:\n",
    "        char_list.append(char)        \n",
    "    # japanese\n",
    "    if re.search(\"[\\u3040-\\u30ff]\", char) and char not in char_list:\n",
    "        char_list.append(char)\n",
    "    # chinese\n",
    "    if re.search(\"[\\u4e00-\\u9FFF]\", char) and char not in char_list:\n",
    "        char_list.append(char)\n",
    "\n",
    "def is_cjk_char(char):\n",
    "    return_bool = (re.search(\"[\\uac00-\\ud7a3]\", char) or re.search(\"[\\u3040-\\u30ff]\", char) or re.search(\"[\\u4e00-\\u9FFF]\", char))\n",
    "    return return_bool"
   ]
  },
  {
   "cell_type": "code",
   "execution_count": 9,
   "id": "5ee8fa1d",
   "metadata": {},
   "outputs": [],
   "source": [
    "def get_unique_chars(source_file):\n",
    "    chinese_pinyin_to_hanzi = open(source_file, encoding=\"utf8\")\n",
    "    char_list = []\n",
    "    while 1:\n",
    "        # read by character\n",
    "        char = chinese_pinyin_to_hanzi.read(1)\n",
    "        cjk_detect(char, char_list)\n",
    "        if not char:\n",
    "            break\n",
    "    chinese_pinyin_to_hanzi.close()\n",
    "    print('There are ' + str(len(char_list)) + ' unique 汉字 in ' + source_file)\n",
    "    #char_list.sort()\n",
    "    #print(char_list)\n",
    "    return char_list"
   ]
  },
  {
   "cell_type": "code",
   "execution_count": null,
   "id": "95f9e598",
   "metadata": {},
   "outputs": [],
   "source": []
  },
  {
   "cell_type": "code",
   "execution_count": 10,
   "id": "c0f99542",
   "metadata": {},
   "outputs": [],
   "source": [
    "def intersection(lst1, lst2):\n",
    "    return set(lst1).intersection(lst2)\n",
    "\n",
    "def find_new_chars(master, new):\n",
    "    return (set(new) - set(master).intersection(new))\n",
    "\n",
    "def new_list_stats(master_list, new_list):\n",
    "    intersection_list = intersection(master_list, new_list)\n",
    "    intersection_count = len(intersection_list)\n",
    "    new_chars_list = find_new_chars(master_list, new_list)\n",
    "    new_chars_count = len(new_chars_list)\n",
    "    print('新汉字 ' + str(new_chars_count))\n",
    "    \n",
    "    new_list_unique = set(new_list)\n",
    "    new_list_unique_count = len(new_list_unique)\n",
    "    print('已经知道 ' + str(round(100 * (new_list_unique_count - new_chars_count) / new_list_unique_count)) + '%')"
   ]
  },
  {
   "cell_type": "code",
   "execution_count": 11,
   "id": "f2f0cef2",
   "metadata": {},
   "outputs": [
    {
     "name": "stdout",
     "output_type": "stream",
     "text": [
      "There are 561 unique 汉字 in data/Chinese-Master.txt\n",
      "\n",
      "There are 260 unique 汉字 in data/chinese-song-db/pharoh.txt\n",
      "新汉字 126\n",
      "已经知道 52%\n",
      "\n",
      "There are 129 unique 汉字 in data/chinese-song-db/三人游-方大同.txt\n",
      "新汉字 57\n",
      "已经知道 56%\n",
      "\n",
      "There are 190 unique 汉字 in data/chinese-song-db/乌云中-艾热.txt\n",
      "新汉字 101\n",
      "已经知道 47%\n",
      "\n",
      "There are 87 unique 汉字 in data/chinese-song-db/勇气.txt\n",
      "新汉字 0\n",
      "已经知道 100%\n",
      "\n",
      "There are 127 unique 汉字 in data/chinese-song-db/心墙.txt\n",
      "新汉字 64\n",
      "已经知道 50%\n",
      "\n",
      "There are 95 unique 汉字 in data/chinese-song-db/梁山伯与茱丽叶.txt\n",
      "新汉字 37\n",
      "已经知道 61%\n",
      "\n",
      "There are 118 unique 汉字 in data/chinese-song-db/爱上你-by2.txt\n",
      "新汉字 76\n",
      "已经知道 36%\n",
      "\n",
      "There are 298 unique 汉字 in data/chinese-song-db/阿司匹林-王以太.txt\n",
      "新汉字 164\n",
      "已经知道 45%\n",
      "\n"
     ]
    }
   ],
   "source": [
    "import os\n",
    "\n",
    "master_file = get_unique_chars('data/Chinese-Master.txt')\n",
    "#print(master_file)\n",
    "print()\n",
    "directory = 'data/chinese-song-db/'\n",
    "# iterate over files in that directory\n",
    "for filename in os.listdir(directory):\n",
    "    f = os.path.join(directory, filename)\n",
    "    # checking if it is a file\n",
    "    if os.path.isfile(f):\n",
    "        file_count = get_unique_chars(f)\n",
    "        new_list_stats(master_file, file_count)\n",
    "        print()"
   ]
  },
  {
   "cell_type": "code",
   "execution_count": 11,
   "id": "41220f79",
   "metadata": {},
   "outputs": [
    {
     "name": "stdout",
     "output_type": "stream",
     "text": [
      "There are 561 unique 汉字 in data/Chinese-Master.txt\n"
     ]
    }
   ],
   "source": [
    "master_file = get_unique_chars('data/Chinese-Master.txt')"
   ]
  },
  {
   "cell_type": "code",
   "execution_count": 12,
   "id": "c6ba6a17",
   "metadata": {},
   "outputs": [
    {
     "name": "stdout",
     "output_type": "stream",
     "text": [
      "There are 95 unique 汉字 in data/chinese-song-db/梁山伯与茱丽叶.txt\n"
     ]
    }
   ],
   "source": [
    "new_file = get_unique_chars('data/chinese-song-db/梁山伯与茱丽叶.txt')"
   ]
  },
  {
   "cell_type": "code",
   "execution_count": 13,
   "id": "6428aa08",
   "metadata": {},
   "outputs": [
    {
     "data": {
      "text/plain": [
       "{'丽',\n",
       " '什',\n",
       " '伯',\n",
       " '偎',\n",
       " '句',\n",
       " '叶',\n",
       " '合',\n",
       " '够',\n",
       " '如',\n",
       " '害',\n",
       " '密',\n",
       " '幸',\n",
       " '愿',\n",
       " '懂',\n",
       " '放',\n",
       " '未',\n",
       " '梁',\n",
       " '欧',\n",
       " '此',\n",
       " '每',\n",
       " '永',\n",
       " '浪',\n",
       " '着',\n",
       " '福',\n",
       " '管',\n",
       " '罗',\n",
       " '羞',\n",
       " '英',\n",
       " '茱',\n",
       " '蜜',\n",
       " '表',\n",
       " '言',\n",
       " '让',\n",
       " '话',\n",
       " '语',\n",
       " '达',\n",
       " '难'}"
      ]
     },
     "execution_count": 13,
     "metadata": {},
     "output_type": "execute_result"
    }
   ],
   "source": [
    "find_new_chars(master_file, new_file)"
   ]
  },
  {
   "cell_type": "code",
   "execution_count": 14,
   "id": "e4ac8a04",
   "metadata": {},
   "outputs": [
    {
     "name": "stdout",
     "output_type": "stream",
     "text": [
      "There are 561 unique 汉字 in data/Chinese-Master.txt\n"
     ]
    }
   ],
   "source": [
    "master_file = get_unique_chars('data/Chinese-Master.txt')"
   ]
  },
  {
   "cell_type": "code",
   "execution_count": 15,
   "id": "41ec7d1e",
   "metadata": {},
   "outputs": [
    {
     "name": "stdout",
     "output_type": "stream",
     "text": [
      "There are 148 unique 汉字 in data/chinese-books/martian.txt\n"
     ]
    }
   ],
   "source": [
    "martian = get_unique_chars('data/chinese-books/martian.txt')"
   ]
  },
  {
   "cell_type": "code",
   "execution_count": 18,
   "id": "97d48ad7",
   "metadata": {},
   "outputs": [
    {
     "data": {
      "text/plain": [
       "{'七',\n",
       " '东',\n",
       " '二',\n",
       " '什',\n",
       " '今',\n",
       " '以',\n",
       " '候',\n",
       " '儿',\n",
       " '前',\n",
       " '十',\n",
       " '又',\n",
       " '叫',\n",
       " '右',\n",
       " '吧',\n",
       " '呢',\n",
       " '和',\n",
       " '哪',\n",
       " '喜',\n",
       " '四',\n",
       " '回',\n",
       " '外',\n",
       " '完',\n",
       " '岁',\n",
       " '左',\n",
       " '已',\n",
       " '年',\n",
       " '怕',\n",
       " '文',\n",
       " '星',\n",
       " '月',\n",
       " '期',\n",
       " '本',\n",
       " '次',\n",
       " '欢',\n",
       " '每',\n",
       " '爸',\n",
       " '笑',\n",
       " '第',\n",
       " '经',\n",
       " '老',\n",
       " '见',\n",
       " '识',\n",
       " '话',\n",
       " '谁',\n",
       " '谢',\n",
       " '跟',\n",
       " '都',\n",
       " '门',\n",
       " '问',\n",
       " '马'}"
      ]
     },
     "execution_count": 18,
     "metadata": {},
     "output_type": "execute_result"
    }
   ],
   "source": [
    "(find_new_chars(master_file, martian))"
   ]
  }
 ],
 "metadata": {
  "kernelspec": {
   "display_name": "Python 3 (ipykernel)",
   "language": "python",
   "name": "python3"
  },
  "language_info": {
   "codemirror_mode": {
    "name": "ipython",
    "version": 3
   },
   "file_extension": ".py",
   "mimetype": "text/x-python",
   "name": "python",
   "nbconvert_exporter": "python",
   "pygments_lexer": "ipython3",
   "version": "3.10.9"
  }
 },
 "nbformat": 4,
 "nbformat_minor": 5
}
