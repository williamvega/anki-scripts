{
 "cells": [
  {
   "cell_type": "code",
   "execution_count": 1,
   "id": "0c1a4da9",
   "metadata": {},
   "outputs": [],
   "source": [
    "# first script for swapping pinyin and hanzi"
   ]
  },
  {
   "cell_type": "code",
   "execution_count": 2,
   "id": "59ea9580",
   "metadata": {},
   "outputs": [],
   "source": [
    "# from https://stackoverflow.com/questions/35091557/replace-nth-occurrence-of-substring-in-string\n",
    "def nth_repl(s, sub, repl, n):\n",
    "    find = s.find(sub)\n",
    "    # If find is not -1 we have found at least one match for the substring\n",
    "    i = find != -1\n",
    "    # loop util we find the nth or we find no match\n",
    "    while find != -1 and i != n:\n",
    "        # find + 1 means we start searching from after the last match\n",
    "        find = s.find(sub, find + 1)\n",
    "        i += 1\n",
    "    # If i is equal to n we found nth match so replace\n",
    "    if i == n:\n",
    "        return s[:find] + repl + s[find+len(sub):]\n",
    "    return s"
   ]
  },
  {
   "cell_type": "code",
   "execution_count": 3,
   "id": "fc42adf4",
   "metadata": {},
   "outputs": [],
   "source": [
    "source_file = 'data/hanzi-to-pinyin.txt'\n",
    "dest_file = 'data/pinyin-to-hanzi.txt'"
   ]
  },
  {
   "cell_type": "code",
   "execution_count": 4,
   "id": "a3ecd25b",
   "metadata": {},
   "outputs": [],
   "source": [
    "hanzi_to_pinyin = open(source_file, encoding=\"utf8\")\n",
    "hanzi_to_pinyin_lines = hanzi_to_pinyin.readlines()"
   ]
  },
  {
   "cell_type": "code",
   "execution_count": 5,
   "id": "36fcbf2c",
   "metadata": {},
   "outputs": [],
   "source": [
    "import codecs\n",
    "pinyin_to_hanzi = codecs.open(dest_file, \"w\", \"utf-8-sig\")\n",
    "\n",
    "for line in hanzi_to_pinyin_lines:\n",
    "    if '#separator' in line or '#html' in line:\n",
    "        continue\n",
    "    array = line.split()\n",
    "    \n",
    "    hanzi = array[0]\n",
    "    pinyin = array[1] \n",
    "    line = nth_repl(line, hanzi, pinyin, 1)\n",
    "    line = nth_repl(line, pinyin, hanzi, 2)\n",
    "    pinyin_to_hanzi.write(line)"
   ]
  },
  {
   "cell_type": "code",
   "execution_count": 6,
   "id": "00f772e7",
   "metadata": {},
   "outputs": [],
   "source": [
    "hanzi_to_pinyin.close()\n",
    "pinyin_to_hanzi.close()"
   ]
  }
 ],
 "metadata": {
  "kernelspec": {
   "display_name": "Python 3 (ipykernel)",
   "language": "python",
   "name": "python3"
  },
  "language_info": {
   "codemirror_mode": {
    "name": "ipython",
    "version": 3
   },
   "file_extension": ".py",
   "mimetype": "text/x-python",
   "name": "python",
   "nbconvert_exporter": "python",
   "pygments_lexer": "ipython3",
   "version": "3.10.9"
  }
 },
 "nbformat": 4,
 "nbformat_minor": 5
}
