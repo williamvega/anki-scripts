{
 "cells": [
  {
   "cell_type": "code",
   "execution_count": 1,
   "id": "0c1a4da9",
   "metadata": {},
   "outputs": [],
   "source": [
    "# first script for swapping pinyin and hanzi"
   ]
  },
  {
   "cell_type": "code",
   "execution_count": 2,
   "id": "59ea9580",
   "metadata": {},
   "outputs": [],
   "source": [
    "# from https://stackoverflow.com/questions/35091557/replace-nth-occurrence-of-substring-in-string\n",
    "def nth_repl(s, sub, repl, n):\n",
    "    find = s.find(sub)\n",
    "    # If find is not -1 we have found at least one match for the substring\n",
    "    i = find != -1\n",
    "    # loop util we find the nth or we find no match\n",
    "    while find != -1 and i != n:\n",
    "        # find + 1 means we start searching from after the last match\n",
    "        find = s.find(sub, find + 1)\n",
    "        i += 1\n",
    "    # If i is equal to n we found nth match so replace\n",
    "    if i == n:\n",
    "        return s[:find] + repl + s[find+len(sub):]\n",
    "    return s"
   ]
  },
  {
   "cell_type": "code",
   "execution_count": 3,
   "id": "fc42adf4",
   "metadata": {},
   "outputs": [],
   "source": [
    "source_file = 'data/hanzi-to-pinyin.txt'\n",
    "dest_file = 'data/pinyin-to-hanzi.txt'"
   ]
  },
  {
   "cell_type": "code",
   "execution_count": 4,
   "id": "a3ecd25b",
   "metadata": {},
   "outputs": [],
   "source": [
    "hanzi_to_pinyin = open(source_file, encoding=\"utf8\")\n",
    "hanzi_to_pinyin_lines = hanzi_to_pinyin.readlines()"
   ]
  },
  {
   "cell_type": "code",
   "execution_count": 5,
   "id": "36fcbf2c",
   "metadata": {},
   "outputs": [],
   "source": [
    "import codecs\n",
    "pinyin_to_hanzi = codecs.open(dest_file, \"w\", \"utf-8-sig\")\n",
    "\n",
    "for line in hanzi_to_pinyin_lines:\n",
    "    if '#separator' in line or '#html' in line:\n",
    "        continue\n",
    "    array = line.split()\n",
    "    \n",
    "    hanzi = array[0]\n",
    "    pinyin = array[1] \n",
    "    line = nth_repl(line, hanzi, pinyin, 1)\n",
    "    line = nth_repl(line, pinyin, hanzi, 2)\n",
    "    pinyin_to_hanzi.write(line)"
   ]
  },
  {
   "cell_type": "code",
   "execution_count": 6,
   "id": "00f772e7",
   "metadata": {},
   "outputs": [],
   "source": [
    "hanzi_to_pinyin.close()\n",
    "pinyin_to_hanzi.close()"
   ]
  },
  {
   "cell_type": "code",
   "execution_count": 34,
   "id": "988bc982",
   "metadata": {},
   "outputs": [],
   "source": [
    "# second script, find unqiue chinese characters\n",
    "# shamelessly stolen form https://medium.com/the-artificial-impostor/detecting-chinese-characters-in-unicode-strings-4ac839ba313a\n",
    "import re\n",
    "\n",
    "def cjk_detect(char, char_list):\n",
    "    # korean\n",
    "    if re.search(\"[\\uac00-\\ud7a3]\", char) and char not in char_list:\n",
    "        char_list.append(char)        \n",
    "    # japanese\n",
    "    if re.search(\"[\\u3040-\\u30ff]\", char) and char not in char_list:\n",
    "        char_list.append(char)\n",
    "    # chinese\n",
    "    if re.search(\"[\\u4e00-\\u9FFF]\", char) and char not in char_list:\n",
    "        char_list.append(char)"
   ]
  },
  {
   "cell_type": "code",
   "execution_count": 35,
   "id": "5f4658a1",
   "metadata": {},
   "outputs": [],
   "source": [
    "source_file = 'data/Chinese-pinyin-to-hanzi.txt'"
   ]
  },
  {
   "cell_type": "code",
   "execution_count": 36,
   "id": "7b196849",
   "metadata": {},
   "outputs": [
    {
     "name": "stdout",
     "output_type": "stream",
     "text": [
      "0\n"
     ]
    }
   ],
   "source": [
    "chinese_pinyin_to_hanzi = open(source_file, encoding=\"utf8\")\n",
    "char_list = []\n",
    "print(len(char_list))\n",
    "while 1:\n",
    "    # read by character\n",
    "    char = chinese_pinyin_to_hanzi.read(1)\n",
    "    cjk_detect(char, char_list)\n",
    "    if not char:\n",
    "        break\n",
    "chinese_pinyin_to_hanzi.close()"
   ]
  },
  {
   "cell_type": "code",
   "execution_count": 37,
   "id": "324d6214",
   "metadata": {},
   "outputs": [
    {
     "name": "stdout",
     "output_type": "stream",
     "text": [
      "There are 109 unique 汉字 in this deck.\n"
     ]
    }
   ],
   "source": [
    "print('There are ' + str(len(char_list)) + ' unique 汉字 in this deck.')"
   ]
  },
  {
   "cell_type": "code",
   "execution_count": 41,
   "id": "381b6b2a",
   "metadata": {},
   "outputs": [
    {
     "name": "stdout",
     "output_type": "stream",
     "text": [
      "['业', '乌', '人', '仓', '仔', '代', '件', '位', '体', '你', '健', '克', '公', '农', '动', '医', '卫', '厨', '司', '员', '商', '士', '大', '头', '夹', '好', '子', '宠', '察', '山', '工', '师', '帽', '康', '律', '恤', '戴', '手', '护', '拿', '指', '服', '术', '机', '松', '树', '校', '植', '母', '毛', '汗', '洲', '流', '消', '游', '熊', '爱', '牛', '物', '猫', '猴', '王', '现', '生', '盖', '眼', '睛', '短', '码', '祝', '程', '穿', '绵', '羊', '美', '翅', '职', '肘', '肩', '胳', '脖', '脚', '脸', '膀', '膊', '膝', '艺', '衣', '衫', '衬', '裙', '裤', '西', '警', '计', '记', '设', '豹', '身', '软', '运', '连', '部', '镜', '长', '防', '鞋', '鼠', '龟']\n"
     ]
    }
   ],
   "source": [
    "char_list.sort()\n",
    "print(char_list)"
   ]
  }
 ],
 "metadata": {
  "kernelspec": {
   "display_name": "Python 3 (ipykernel)",
   "language": "python",
   "name": "python3"
  },
  "language_info": {
   "codemirror_mode": {
    "name": "ipython",
    "version": 3
   },
   "file_extension": ".py",
   "mimetype": "text/x-python",
   "name": "python",
   "nbconvert_exporter": "python",
   "pygments_lexer": "ipython3",
   "version": "3.10.9"
  }
 },
 "nbformat": 4,
 "nbformat_minor": 5
}
