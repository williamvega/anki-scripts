{
 "cells": [
  {
   "cell_type": "code",
   "execution_count": 65,
   "id": "20537896",
   "metadata": {},
   "outputs": [],
   "source": [
    "# first script for swapping pinyin and hanzi"
   ]
  },
  {
   "cell_type": "code",
   "execution_count": 66,
   "id": "9f992e64",
   "metadata": {},
   "outputs": [],
   "source": [
    "file = 'data/pinyin_first.txt'"
   ]
  },
  {
   "cell_type": "code",
   "execution_count": 67,
   "id": "84366e79",
   "metadata": {},
   "outputs": [],
   "source": [
    "pinyin_first = open(file, encoding=\"utf8\")"
   ]
  },
  {
   "cell_type": "code",
   "execution_count": 68,
   "id": "e70b70e0",
   "metadata": {},
   "outputs": [],
   "source": [
    "lines = pinyin_first.readlines()"
   ]
  },
  {
   "cell_type": "code",
   "execution_count": 69,
   "id": "c2dd2905",
   "metadata": {},
   "outputs": [],
   "source": [
    "# from https://stackoverflow.com/questions/35091557/replace-nth-occurrence-of-substring-in-string\n",
    "def nth_repl(s, sub, repl, n):\n",
    "    find = s.find(sub)\n",
    "    # If find is not -1 we have found at least one match for the substring\n",
    "    i = find != -1\n",
    "    # loop util we find the nth or we find no match\n",
    "    while find != -1 and i != n:\n",
    "        # find + 1 means we start searching from after the last match\n",
    "        find = s.find(sub, find + 1)\n",
    "        i += 1\n",
    "    # If i is equal to n we found nth match so replace\n",
    "    if i == n:\n",
    "        return s[:find] + repl + s[find+len(sub):]\n",
    "    return s"
   ]
  },
  {
   "cell_type": "code",
   "execution_count": 70,
   "id": "5c976f06",
   "metadata": {},
   "outputs": [],
   "source": [
    "import codecs\n",
    "new_file = codecs.open(file.replace('.txt', '_new.txt'), \"w\", \"utf-8-sig\")"
   ]
  },
  {
   "cell_type": "code",
   "execution_count": 71,
   "id": "7f46a27e",
   "metadata": {},
   "outputs": [],
   "source": [
    "for line in lines:\n",
    "    if '#separator' in line or '#html' in line:\n",
    "        continue\n",
    "    array = line.split()\n",
    "    hanzi = array[0]\n",
    "    pinyin = array[1] \n",
    "    line = nth_repl(line, hanzi, pinyin, 1)\n",
    "    line = nth_repl(line, pinyin, hanzi, 2)\n",
    "    new_file.write(line)"
   ]
  },
  {
   "cell_type": "code",
   "execution_count": 72,
   "id": "7002e104",
   "metadata": {},
   "outputs": [],
   "source": [
    "new_file.close()"
   ]
  }
 ],
 "metadata": {
  "kernelspec": {
   "display_name": "Python 3 (ipykernel)",
   "language": "python",
   "name": "python3"
  },
  "language_info": {
   "codemirror_mode": {
    "name": "ipython",
    "version": 3
   },
   "file_extension": ".py",
   "mimetype": "text/x-python",
   "name": "python",
   "nbconvert_exporter": "python",
   "pygments_lexer": "ipython3",
   "version": "3.10.9"
  }
 },
 "nbformat": 4,
 "nbformat_minor": 5
}
