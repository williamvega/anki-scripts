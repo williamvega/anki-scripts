{
 "cells": [
  {
   "cell_type": "code",
   "execution_count": 1,
   "id": "0c1a4da9",
   "metadata": {},
   "outputs": [],
   "source": [
    "# first script for swapping pinyin and hanzi"
   ]
  },
  {
   "cell_type": "code",
   "execution_count": 2,
   "id": "59ea9580",
   "metadata": {},
   "outputs": [],
   "source": [
    "# from https://stackoverflow.com/questions/35091557/replace-nth-occurrence-of-substring-in-string\n",
    "def nth_repl(s, sub, repl, n):\n",
    "    find = s.find(sub)\n",
    "    # If find is not -1 we have found at least one match for the substring\n",
    "    i = find != -1\n",
    "    # loop util we find the nth or we find no match\n",
    "    while find != -1 and i != n:\n",
    "        # find + 1 means we start searching from after the last match\n",
    "        find = s.find(sub, find + 1)\n",
    "        i += 1\n",
    "    # If i is equal to n we found nth match so replace\n",
    "    if i == n:\n",
    "        return s[:find] + repl + s[find+len(sub):]\n",
    "    return s"
   ]
  },
  {
   "cell_type": "code",
   "execution_count": 3,
   "id": "fc42adf4",
   "metadata": {},
   "outputs": [],
   "source": [
    "source_file = 'data/hanzi-to-pinyin.txt'\n",
    "dest_file = 'data/pinyin-to-hanzi.txt'"
   ]
  },
  {
   "cell_type": "code",
   "execution_count": 4,
   "id": "a3ecd25b",
   "metadata": {},
   "outputs": [],
   "source": [
    "hanzi_to_pinyin = open(source_file, encoding=\"utf8\")\n",
    "hanzi_to_pinyin_lines = hanzi_to_pinyin.readlines()"
   ]
  },
  {
   "cell_type": "code",
   "execution_count": 5,
   "id": "36fcbf2c",
   "metadata": {},
   "outputs": [],
   "source": [
    "import codecs\n",
    "pinyin_to_hanzi = codecs.open(dest_file, \"w\", \"utf-8-sig\")\n",
    "\n",
    "for line in hanzi_to_pinyin_lines:\n",
    "    if '#separator' in line or '#html' in line:\n",
    "        continue\n",
    "    array = line.split()\n",
    "    \n",
    "    hanzi = array[0]\n",
    "    pinyin = array[1] \n",
    "    line = nth_repl(line, hanzi, pinyin, 1)\n",
    "    line = nth_repl(line, pinyin, hanzi, 2)\n",
    "    pinyin_to_hanzi.write(line)"
   ]
  },
  {
   "cell_type": "code",
   "execution_count": 6,
   "id": "00f772e7",
   "metadata": {},
   "outputs": [],
   "source": [
    "hanzi_to_pinyin.close()\n",
    "pinyin_to_hanzi.close()"
   ]
  },
  {
   "cell_type": "code",
   "execution_count": 3,
   "id": "b438a259",
   "metadata": {},
   "outputs": [],
   "source": [
    "# second script, find unqiue chinese characters\n",
    "# shamelessly stolen form https://medium.com/the-artificial-impostor/detecting-chinese-characters-in-unicode-strings-4ac839ba313a\n",
    "import re\n",
    "\n",
    "def cjk_detect(char, char_list):\n",
    "    # korean\n",
    "    if re.search(\"[\\uac00-\\ud7a3]\", char) and char not in char_list:\n",
    "        char_list.append(char)        \n",
    "    # japanese\n",
    "    if re.search(\"[\\u3040-\\u30ff]\", char) and char not in char_list:\n",
    "        char_list.append(char)\n",
    "    # chinese\n",
    "    if re.search(\"[\\u4e00-\\u9FFF]\", char) and char not in char_list:\n",
    "        char_list.append(char)\n",
    "\n",
    "def is_cjk_char(char):\n",
    "    return_bool = (re.search(\"[\\uac00-\\ud7a3]\", char) or re.search(\"[\\u3040-\\u30ff]\", char) or re.search(\"[\\u4e00-\\u9FFF]\", char))\n",
    "    return return_bool"
   ]
  },
  {
   "cell_type": "code",
   "execution_count": 4,
   "id": "28a45c37",
   "metadata": {},
   "outputs": [],
   "source": [
    "source_file = 'data/Chinese-Master.txt'"
   ]
  },
  {
   "cell_type": "code",
   "execution_count": 5,
   "id": "5ee8fa1d",
   "metadata": {},
   "outputs": [
    {
     "name": "stdout",
     "output_type": "stream",
     "text": [
      "0\n"
     ]
    }
   ],
   "source": [
    "chinese_pinyin_to_hanzi = open(source_file, encoding=\"utf8\")\n",
    "char_list = []\n",
    "print(len(char_list))\n",
    "while 1:\n",
    "    # read by character\n",
    "    char = chinese_pinyin_to_hanzi.read(1)\n",
    "    cjk_detect(char, char_list)\n",
    "    if not char:\n",
    "        break\n",
    "chinese_pinyin_to_hanzi.close()"
   ]
  },
  {
   "cell_type": "code",
   "execution_count": 7,
   "id": "0200ac63",
   "metadata": {},
   "outputs": [
    {
     "name": "stdout",
     "output_type": "stream",
     "text": [
      "There are 458 unique 汉字 in this deck.\n"
     ]
    }
   ],
   "source": [
    "print('There are ' + str(len(char_list)) + ' unique 汉字 in this deck.')"
   ]
  },
  {
   "cell_type": "code",
   "execution_count": 8,
   "id": "4236deda",
   "metadata": {
    "scrolled": false
   },
   "outputs": [
    {
     "name": "stdout",
     "output_type": "stream",
     "text": [
      "['一', '万', '三', '上', '下', '不', '业', '两', '个', '中', '久', '么', '乌', '乘', '书', '了', '于', '五', '交', '人', '从', '仓', '仔', '他', '代', '们', '件', '份', '休', '会', '位', '低', '体', '作', '你', '便', '個', '做', '健', '先', '克', '公', '六', '共', '具', '冒', '写', '农', '冰', '减', '几', '出', '击', '分', '列', '利', '到', '刷', '加', '务', '动', '包', '区', '医', '千', '午', '半', '单', '卧', '卫', '厅', '厨', '去', '发', '变', '口', '只', '可', '台', '司', '吃', '后', '听', '员', '味', '咖', '咳', '商', '啡', '喷', '嗅', '嗽', '器', '嚏', '园', '围', '在', '地', '场', '坐', '堂', '堡', '場', '士', '处', '多', '大', '天', '头', '夹', '套', '奶', '她', '好', '子', '字', '学', '它', '安', '宋', '宜', '宠', '客', '室', '家', '察', '寺', '將', '小', '少', '尝', '局', '层', '居', '屎', '展', '山', '工', '巾', '市', '师', '带', '常', '帽', '干', '床', '库', '店', '庙', '座', '康', '建', '开', '式', '张', '張', '影', '很', '律', '得', '微', '心', '快', '怎', '思', '恤', '息', '意', '感', '成', '我', '戒', '或', '戴', '房', '所', '手', '打', '托', '扩', '把', '护', '拉', '拼', '拿', '指', '排', '接', '摩', '敏', '教', '数', '斤', '断', '新', '日', '早', '时', '明', '春', '是', '晚', '最', '有', '服', '朝', '术', '机', '条', '来', '松', '果', '架', '柜', '柠', '树', '校', '根', '桃', '桌', '條', '梯', '检', '椅', '植', '楼', '橙', '檬', '母', '毛', '水', '汁', '汇', '汉', '汗', '池', '沙', '治', '波', '泳', '洗', '洲', '流', '浴', '海', '消', '涕', '淋', '清', '游', '滴', '澡', '火', '炉', '炒', '点', '烘', '烤', '烧', '热', '然', '熊', '爱', '片', '牙', '牛', '物', '状', '狗', '猪', '猫', '猴', '王', '现', '班', '瓜', '甜', '生', '用', '电', '疼', '病', '症', '痛', '百', '盖', '看', '眼', '睛', '睡', '短', '码', '研', '碗', '碧', '磅', '社', '祝', '票', '离', '科', '秒', '程', '稍', '究', '空', '穿', '立', '站', '等', '筑', '算', '箱', '節', '米', '糖', '組', '约', '级', '组', '络', '绵', '网', '羊', '美', '翅', '翻', '者', '耳', '职', '肉', '肘', '肚', '肩', '胃', '胳', '能', '脑', '脖', '脚', '脸', '腰', '膀', '膊', '膝', '自', '臺', '般', '船', '艘', '艺', '节', '芒', '花', '苹', '茶', '草', '药', '莓', '菜', '萄', '葡', '蕉', '薯', '處', '虾', '行', '街', '衣', '衫', '衬', '裙', '裤', '西', '要', '视', '觉', '触', '警', '计', '记', '设', '词', '译', '读', '课', '调', '豹', '购', '贵', '走', '起', '超', '趟', '足', '路', '踏', '身', '輛', '车', '轨', '软', '轻', '辆', '边', '过', '运', '近', '还', '远', '连', '通', '逛', '道', '那', '邮', '部', '酸', '醋', '里', '量', '钱', '铁', '银', '链', '镜', '长', '間', '间', '防', '阳', '阵', '附', '院', '陣', '除', '隻', '雪', '零', '需', '面', '鞋', '音', '飞', '食', '餐', '饭', '饺', '馆', '首', '香', '骑', '高', '鲜', '麦', '鼠', '鼻', '龟']\n"
     ]
    }
   ],
   "source": [
    "char_list.sort()\n",
    "print(char_list)"
   ]
  },
  {
   "cell_type": "code",
   "execution_count": 22,
   "id": "fa46e549",
   "metadata": {},
   "outputs": [],
   "source": [
    "# remove mdbg whitespace\n",
    "def remove_whitespace(mdgb_entry):\n",
    "    # goal is to build hanzi, pinyin, and translation strings    \n",
    "    mdgb_entry = mdgb_entry.split()\n",
    "    hanzi_string = mdgb_entry[0]\n",
    "    \n",
    "    end_pinyin_index = len(hanzi_string)\n",
    "    \n",
    "    if (end_pinyin_index == 1):\n",
    "        pinyin_string = ''.join(mdgb_entry[1])\n",
    "        translation_string = ' '.join(mdgb_entry[2:])\n",
    "    else:\n",
    "        start_pinyin_index = 1\n",
    "        pinyin_string = ''.join(mdgb_entry[start_pinyin_index:end_pinyin_index+1])\n",
    "        translation_string = ' '.join(mdgb_entry[end_pinyin_index+1:])\n",
    "    \n",
    "    print('\\n')\n",
    "    print(str.strip(pinyin_string))\n",
    "    print(str.strip(hanzi_string))\n",
    "    print(str.strip(translation_string))"
   ]
  },
  {
   "cell_type": "code",
   "execution_count": 33,
   "id": "dba1a5bb",
   "metadata": {},
   "outputs": [
    {
     "name": "stdout",
     "output_type": "stream",
     "text": [
      "\n",
      "\n",
      "yīrìsāncān\n",
      "一日三餐\n",
      "to have three meals a day\n",
      "\n",
      "\n",
      "xīcān\n",
      "西餐\n",
      "western food三明治 sān míng zhì sandwich (loanword)\n",
      "\n",
      "\n",
      "shālā\n",
      "沙拉\n",
      "salad (loanword)\n",
      "\n",
      "\n",
      "niúpái\n",
      "牛排\n",
      "steak\n",
      "\n",
      "\n",
      "kǎo\n",
      "烤\n",
      "to roast / to bake / to broil\n",
      "\n",
      "\n",
      "Yìdàlì\n",
      "意大利\n",
      "Italy / Italian\n"
     ]
    }
   ],
   "source": [
    "string_list = [\n",
    "    '一日三餐\tyī rì sān cān\tto have three meals a day', \n",
    "    '西餐\txī cān\twestern food'\n",
    "    '三明治\tsān míng zhì\tsandwich (loanword)',\n",
    "    '沙拉\tshā lā\tsalad (loanword)',\n",
    "    '牛排\tniú pái\tsteak',\n",
    "    '烤\tkǎo\tto roast / to bake / to broil',\n",
    "    '意大利\tYì dà lì\tItaly / Italian']\n",
    "\n",
    "for string in string_list:\n",
    "    remove_whitespace(string)"
   ]
  },
  {
   "cell_type": "code",
   "execution_count": null,
   "id": "8a13639e",
   "metadata": {},
   "outputs": [],
   "source": []
  }
 ],
 "metadata": {
  "kernelspec": {
   "display_name": "Python 3 (ipykernel)",
   "language": "python",
   "name": "python3"
  },
  "language_info": {
   "codemirror_mode": {
    "name": "ipython",
    "version": 3
   },
   "file_extension": ".py",
   "mimetype": "text/x-python",
   "name": "python",
   "nbconvert_exporter": "python",
   "pygments_lexer": "ipython3",
   "version": "3.10.9"
  }
 },
 "nbformat": 4,
 "nbformat_minor": 5
}
